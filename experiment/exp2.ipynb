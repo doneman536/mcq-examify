{
 "cells": [
  {
   "cell_type": "code",
   "execution_count": 18,
   "metadata": {},
   "outputs": [],
   "source": [
    "import os\n",
    "import json\n",
    "import pandas as pd\n",
    "import traceback\n",
    "\n",
    "from langchain_groq import ChatGroq\n",
    "from langchain.prompts import PromptTemplate\n",
    "from langchain.chains import LLMChain, SequentialChain\n",
    "from dotenv import load_dotenv\n",
    "\n",
    "load_dotenv()\n",
    "key = os.getenv(\"groq_api\")\n",
    "\n",
    "llm = ChatGroq(groq_api_key=key, temperature=1, model=\"qwen-2.5-32b\")\n",
    "\n",
    "template = \"\"\"\n",
    "You are an MCQ generator.\n",
    "Topic: {Topic}\n",
    "Text: {Text}\n",
    "\n",
    "If the text is None, generate MCQs based on the given topic.\n",
    "If the provided text is insufficient, use your knowledge to generate relevant MCQs.\n",
    "\n",
    "Now create {Count} MCQs in {Mode} mode as per the given topic.\n",
    "The response should be in JSON format:\n",
    "\n",
    "### Response format:\n",
    "{json_format}\n",
    "\"\"\"\n",
    "\n",
    "response_format = {\n",
    "    \"1\": {\n",
    "        \"Question\": \"question\",\n",
    "        \"options\": {\n",
    "            \"a\": \"choice 1\",\n",
    "            \"b\": \"choice 2\",\n",
    "            \"c\": \"choice 3\",\n",
    "            \"d\": \"choice 4\",\n",
    "        },\n",
    "    },\n",
    "    \"2\": {},\n",
    "}\n",
    "\n",
    "answers_format = {\n",
    "    \"1\": {\n",
    "        \"answer\": \"correct option\",\n",
    "        \"reason\": \"Provide a small description about why that option is correct.\",\n",
    "    },\n",
    "    \"2\": {},\n",
    "}\n",
    "\n",
    "answers_template = \"\"\"\n",
    "MCQs: {generated_mcqs}\n",
    "\n",
    "As per the above, provide correct answers in the following format:\n",
    "\n",
    "## Result format:\n",
    "{answers_format}\n",
    "\"\"\"\n",
    "\n",
    "def generate_mcqs(topic, text=None, count=5, mode=\"low\"):\n",
    "    quiz_generate_prompt = PromptTemplate(\n",
    "        input_variables=[\"Topic\", \"Text\", \"Count\", \"Mode\", \"json_format\"],\n",
    "        template=template,\n",
    "    )\n",
    "\n",
    "    quiz_answers_prompt = PromptTemplate(\n",
    "        input_variables=[\"generated_mcqs\"],\n",
    "        template=answers_template,\n",
    "    )\n",
    "\n",
    "    chain1 = LLMChain(llm=llm, prompt=quiz_generate_prompt, output_key=\"generated_mcqs\")\n",
    "    chain2 = LLMChain(llm=llm, prompt=quiz_answers_prompt, output_key=\"mcq_answers\")\n",
    "\n",
    "    main_chain = SequentialChain(\n",
    "        chains=[chain1, chain2],\n",
    "        input_variables=[\"Topic\", \"Text\", \"Count\", \"Mode\", \"json_format\", \"answers_format\"],\n",
    "        output_variables=[\"generated_mcqs\", \"mcq_answers\"],\n",
    "    )\n",
    "\n",
    "    response = main_chain.invoke(\n",
    "        {\n",
    "            \"Topic\": topic,\n",
    "            \"Text\": None,  # Ensure `text` is defined or replace with `None`\n",
    "            \"Count\": count,\n",
    "            \"Mode\": mode,\n",
    "            \"json_format\": response_format,\n",
    "            \"answers_format\": answers_format,\n",
    "        }\n",
    "    )\n",
    "\n",
    "    raw_json = response[\"generated_mcqs\"]\n",
    "\n",
    "    if raw_json.startswith(\"```json\"):\n",
    "        raw_json = raw_json[7:]\n",
    "    if raw_json.endswith(\"```\"):\n",
    "        raw_json = raw_json[:-3]\n",
    "\n",
    "    try:\n",
    "        mcqs = json.loads(raw_json.strip())\n",
    "    except json.JSONDecodeError:\n",
    "        mcqs = raw_json\n",
    "\n",
    "    raw_answers_json = response['mcq_answers']\n",
    "\n",
    "    if raw_answers_json.startswith(\"```json\"):\n",
    "        raw_answers_json = raw_answers_json[7:]\n",
    "    if raw_answers_json.endswith(\"```\"):\n",
    "        raw_answers_json = raw_answers_json[:-3]\n",
    "\n",
    "    \n",
    "    mcqs_answers = json.loads(raw_answers_json)\n",
    "\n",
    "    return mcqs, mcqs_answers\n",
    "\n",
    "\n"
   ]
  },
  {
   "cell_type": "code",
   "execution_count": 20,
   "metadata": {},
   "outputs": [],
   "source": [
    "import json\n",
    "import time\n",
    "\n",
    "def safe_generate_mcqs(topic, text=None, count=5, mode=\"low\", retries=5, delay=2):\n",
    "    for attempt in range(1, retries + 1):\n",
    "        try:\n",
    "            return generate_mcqs(topic, text, count, mode)\n",
    "        except json.JSONDecodeError as e:\n",
    "            print(f\"JSON error: {e}. Retrying {attempt}/{retries}...\")\n",
    "        except Exception as e:\n",
    "            print(f\"Error: {e}. Retrying {attempt}/{retries}...\")\n",
    "        time.sleep(delay)\n",
    "    raise RuntimeError(\"MCQ generation failed after multiple attempts.\")\n",
    "\n",
    "# Call the function\n",
    "a, b = safe_generate_mcqs(\"Python\", count=5, mode=\"low\")\n",
    "\n"
   ]
  },
  {
   "cell_type": "code",
   "execution_count": 21,
   "metadata": {},
   "outputs": [
    {
     "name": "stdout",
     "output_type": "stream",
     "text": [
      "{'1': {'Question': 'What is the result of the expression 2 + 3 * 4 in Python?', 'options': {'a': '20', 'b': '14', 'c': '5', 'd': '11'}}, '2': {'Question': 'Which of the following is the correct way to comment a single line in Python?', 'options': {'a': '# This is a comment', 'b': '-- This is a comment', 'c': '// This is a comment', 'd': '/* This is a comment */'}}, '3': {'Question': 'What will be the output of the following code?\\n```python\\nx = 3\\nprint(x ** 3)\\n```', 'options': {'a': '27', 'b': '9', 'c': '3', 'd': '6'}}, '4': {'Question': 'In Python, which of the following is the correct method to create an empty list?', 'options': {'a': 'my_list = {}', 'b': 'my_list = ()', 'c': 'my_list = []', 'd': \"my_list = ''\"}}, '5': {'Question': \"What does the 'len()' function do in Python?\", 'options': {'a': 'It returns the largest item in an iterable', 'b': 'It returns the smallest item in an iterable', 'c': 'It returns the sum of all items in an iterable', 'd': 'It returns the number of items in an iterable'}}}\n"
     ]
    }
   ],
   "source": [
    "print(a)\n"
   ]
  },
  {
   "cell_type": "code",
   "execution_count": 22,
   "metadata": {},
   "outputs": [
    {
     "name": "stdout",
     "output_type": "stream",
     "text": [
      "{'1': {'answer': 'b', 'reason': 'The expression `2 + 3 * 4` in Python follows the arithmetic rules with multiplication having higher precedence over addition. Therefore, it computes as 2 + (3 * 4) which is 14.'}, '2': {'answer': 'a', 'reason': 'In Python, a single line comment is started with a single hash symbol `#`. This means that `# This is a comment` is the correct format for a single line comment.'}, '3': {'answer': 'a', 'reason': 'The code `x = 3` assigns the value 3 to the variable x. Applying the operation `x ** 3` is raising x to the power of 3, which would result in 27.'}, '4': {'answer': 'c', 'reason': \"To create an empty list in Python, square brackets `[]` are used. Other options are used to create dictionaries `{}`, tuples `()`, and strings `''` respectively.\"}, '5': {'answer': 'd', 'reason': 'The `len()` function in Python returns the number of items in an iterable. It counts the number of elements in the list, string, tuple, set, or dictionary.'}}\n"
     ]
    }
   ],
   "source": [
    "print(b)"
   ]
  },
  {
   "cell_type": "code",
   "execution_count": null,
   "metadata": {},
   "outputs": [],
   "source": []
  }
 ],
 "metadata": {
  "kernelspec": {
   "display_name": "Python 3",
   "language": "python",
   "name": "python3"
  },
  "language_info": {
   "name": "python",
   "version": "3.9.21"
  }
 },
 "nbformat": 4,
 "nbformat_minor": 2
}
