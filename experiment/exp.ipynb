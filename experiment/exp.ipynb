{
 "cells": [
  {
   "cell_type": "code",
   "execution_count": 3,
   "metadata": {},
   "outputs": [],
   "source": [
    "import os\n",
    "import json\n",
    "import pandas as pd\n",
    "import traceback"
   ]
  },
  {
   "cell_type": "code",
   "execution_count": 4,
   "metadata": {},
   "outputs": [],
   "source": [
    "from langchain_groq import ChatGroq"
   ]
  },
  {
   "cell_type": "code",
   "execution_count": 5,
   "metadata": {},
   "outputs": [],
   "source": [
    "from dotenv import load_dotenv\n",
    "load_dotenv()\n",
    "key = os.getenv('groq_api')"
   ]
  },
  {
   "cell_type": "code",
   "execution_count": 6,
   "metadata": {},
   "outputs": [],
   "source": [
    "llm = ChatGroq(\n",
    "    groq_api_key = key,\n",
    "    temperature=1,\n",
    "    model=\"qwen-2.5-32b\"\n",
    ")"
   ]
  },
  {
   "cell_type": "code",
   "execution_count": 7,
   "metadata": {},
   "outputs": [],
   "source": [
    "from langchain.prompts import PromptTemplate\n",
    "from langchain.chains import LLMChain\n",
    "from langchain.chains import SequentialChain"
   ]
  },
  {
   "cell_type": "code",
   "execution_count": 8,
   "metadata": {},
   "outputs": [],
   "source": [
    "template = \"\"\"\n",
    "Your are MCQ generator\n",
    "Topic : {Topic}\n",
    "Text : {Text}\n",
    "If you find text as None then, as per topic given generate MCQs, else if the data is not enough try to genearte as per you knowledge on topic.\n",
    "Now create {Count} MCQs on {Mode} as per topic given by the user.\n",
    "The reponse should be in form of json as \n",
    "### Response formate\n",
    "{json_formate}\n",
    "In this way \n",
    "\"\"\""
   ]
  },
  {
   "cell_type": "code",
   "execution_count": 9,
   "metadata": {},
   "outputs": [],
   "source": [
    "response_formate = {\n",
    "    \"1\" :{\n",
    "        \"Question\" : \"question\",\n",
    "        \"options\" : {\n",
    "            \"a\" : \"choice 1\",\n",
    "            \"b\" : \"choice 2\",\n",
    "            \"c\" : \"choice 3\",\n",
    "            \"d\" : \"choice 4\",\n",
    "\n",
    "        },\n",
    "    },\n",
    "    \"2\" : {},\n",
    "}"
   ]
  },
  {
   "cell_type": "code",
   "execution_count": 10,
   "metadata": {},
   "outputs": [],
   "source": [
    "quiz_generate_prompt = PromptTemplate(\n",
    "    input_variables = ['Topic','Text','Count','Mode','json_formate'],\n",
    "    template=template\n",
    ")"
   ]
  },
  {
   "cell_type": "markdown",
   "metadata": {},
   "source": [
    "# Lets do assume I have only topic"
   ]
  },
  {
   "cell_type": "code",
   "execution_count": 11,
   "metadata": {},
   "outputs": [],
   "source": [
    "text = 'None'"
   ]
  },
  {
   "cell_type": "code",
   "execution_count": 12,
   "metadata": {},
   "outputs": [],
   "source": [
    "answers_formate = {\n",
    "    \"1\" :{\n",
    "        'answer' :  \"correct option\",\n",
    "        'reason' : \"Provide a small descroption about why that option is correct.\"\n",
    "    },\n",
    "    \"2\" : {}\n",
    "}"
   ]
  },
  {
   "cell_type": "code",
   "execution_count": 13,
   "metadata": {},
   "outputs": [],
   "source": [
    "answers_template = '''\n",
    "MCQS : {generated_mcqs}\n",
    "As per above give correct answers as formate;\n",
    "## Result formate :\n",
    "{answers_formate}\n",
    "In this way ...\n",
    "'''"
   ]
  },
  {
   "cell_type": "code",
   "execution_count": 14,
   "metadata": {},
   "outputs": [],
   "source": [
    "quiz_answers_prompt = PromptTemplate(\n",
    "    input_variables=['generated_mcqs'],\n",
    "    template=answers_template,\n",
    ")"
   ]
  },
  {
   "cell_type": "code",
   "execution_count": 15,
   "metadata": {},
   "outputs": [
    {
     "name": "stderr",
     "output_type": "stream",
     "text": [
      "/var/folders/8l/zl99_gy92mg5qxxvz9x0knw00000gn/T/ipykernel_57303/645718298.py:4: LangChainDeprecationWarning: The class `LLMChain` was deprecated in LangChain 0.1.17 and will be removed in 1.0. Use :meth:`~RunnableSequence, e.g., `prompt | llm`` instead.\n",
      "  chain1 = LLMChain(\n"
     ]
    }
   ],
   "source": [
    "from langchain.chains import SequentialChain\n",
    "from langchain.chains import LLMChain\n",
    "\n",
    "chain1 = LLMChain(\n",
    "    llm=llm,\n",
    "    prompt = quiz_generate_prompt,\n",
    "    output_key = \"generated_mcqs\"\n",
    "    )\n",
    "\n",
    "chain2 = LLMChain(\n",
    "    llm=llm,\n",
    "    prompt = quiz_answers_prompt,\n",
    "    output_key = 'mcq_answers'\n",
    ")\n"
   ]
  },
  {
   "cell_type": "code",
   "execution_count": 16,
   "metadata": {},
   "outputs": [],
   "source": [
    "main_chain1 = SequentialChain(\n",
    "    chains = [chain1,chain2],\n",
    "    input_variables = ['Topic','Text','Count','Mode','json_formate','answers_formate'],\n",
    "    output_variables = ['generated_mcqs','mcq_answers']\n",
    ")"
   ]
  },
  {
   "cell_type": "code",
   "execution_count": 17,
   "metadata": {},
   "outputs": [],
   "source": [
    "response = main_chain1.invoke({\n",
    "    \"Topic\" : \"ML\",\n",
    "    \"Text\" : text,\n",
    "    \"Count\" : 3,\n",
    "    \"Mode\" : \"Hard\",\n",
    "    \"json_formate\" : response_formate,\n",
    "    'answers_formate' : answers_formate,\n",
    "}\n",
    ")"
   ]
  },
  {
   "cell_type": "code",
   "execution_count": 18,
   "metadata": {},
   "outputs": [],
   "source": [
    "mcqs = response['generated_mcqs']"
   ]
  },
  {
   "cell_type": "code",
   "execution_count": 19,
   "metadata": {},
   "outputs": [
    {
     "name": "stdout",
     "output_type": "stream",
     "text": [
      "```json\n",
      "{\n",
      "  \"1\": {\n",
      "    \"Question\": \"In the context of machine learning, which algorithm inherently handles missing values without the need for preprocessing?\",\n",
      "    \"options\": {\n",
      "      \"a\": \"Random Forest\",\n",
      "      \"b\": \"Support Vector Machine\",\n",
      "      \"c\": \"K-Means Clustering\",\n",
      "      \"d\": \"Logistic Regression\"\n",
      "    }\n",
      "  },\n",
      "  \"2\": {\n",
      "    \"Question\": \"Which of the following is a common regularization technique used to prevent overfitting in machine learning models?\",\n",
      "    \"options\": {\n",
      "      \"a\": \"Cross-validation\",\n",
      "      \"b\": \"Gradient Descent\",\n",
      "      \"c\": \"Lasso Regression\",\n",
      "      \"d\": \"Covariance Matrix\"\n",
      "    }\n",
      "  },\n",
      "  \"3\": {\n",
      "    \"Question\": \"What is the primary difference between supervised and unsupervised learning algorithms?\",\n",
      "    \"options\": {\n",
      "      \"a\": \"Supervised algorithms do not require data to train, whereas unsupervised algorithms do.\",\n",
      "      \"b\": \"Unsupervised algorithms require a labeled dataset, whereas supervised algorithms do not.\",\n",
      "      \"c\": \"Supervised learning algorithms predict categorical labels, while unsupervised learning algorithms cluster data points.\",\n",
      "      \"d\": \"Supervised learning algorithms require labeled data, while unsupervised learning algorithms do not.\"\n",
      "    }\n",
      "  }\n",
      "}\n",
      "```\n"
     ]
    }
   ],
   "source": [
    "print(mcqs)"
   ]
  },
  {
   "cell_type": "code",
   "execution_count": 20,
   "metadata": {},
   "outputs": [],
   "source": [
    "raw_json = response['generated_mcqs']\n",
    "\n",
    "if raw_json.startswith(\"```json\"):\n",
    "    raw_json = raw_json[7:]\n",
    "if raw_json.endswith(\"```\"):\n",
    "    raw_json = raw_json[:-3] "
   ]
  },
  {
   "cell_type": "code",
   "execution_count": 21,
   "metadata": {},
   "outputs": [],
   "source": [
    "mcqs = json.loads(raw_json.strip())"
   ]
  },
  {
   "cell_type": "code",
   "execution_count": 22,
   "metadata": {},
   "outputs": [],
   "source": [
    "raw_answers_json = response['mcq_answers']"
   ]
  },
  {
   "cell_type": "code",
   "execution_count": 23,
   "metadata": {},
   "outputs": [
    {
     "name": "stdout",
     "output_type": "stream",
     "text": [
      "```json\n",
      "{\n",
      "  \"1\": {\n",
      "    \"answer\": \"a\",\n",
      "    \"reason\": \"Random Forest is a type of ensemble learning method for classification, regression, and other tasks that operates by constructing a multitude of decision trees at training time. It inherently handles missing values by considering all possible ways to split one or the other of the values that are missing.\"\n",
      "  },\n",
      "  \"2\": {\n",
      "    \"answer\": \"c\",\n",
      "    \"reason\": \"Lasso Regression (Least Absolute Shrinkage and Selection Operator) is a type of linear regression that uses shrinkage. Shrinkage basically means that data values are shrunk towards a central point, like the mean. The LASSO method performs regularization and variable selection by shrinking some of the regression coefficients to zero. This not only helps in reducing overfitting but also effectively selects a simpler model.\"\n",
      "  },\n",
      "  \"3\": {\n",
      "    \"answer\": \"d\",\n",
      "    \"reason\": \"In supervised learning, the algorithm is trained on a labeled dataset, which means a dataset where we already have the answers, and the goal is to learn a mapping from inputs to outputs. In contrast, unsupervised learning does not require labeled data and aims to find patterns and structures in the data without any predefined output labels.\"\n",
      "  }\n",
      "}\n",
      "```\n"
     ]
    }
   ],
   "source": [
    "print(raw_answers_json)"
   ]
  },
  {
   "cell_type": "code",
   "execution_count": 24,
   "metadata": {},
   "outputs": [],
   "source": [
    "if raw_answers_json.startswith(\"```json\"):\n",
    "    raw_answers_json = raw_answers_json[7:]\n",
    "if raw_answers_json.endswith(\"```\"):\n",
    "    raw_answers_json = raw_answers_json[:-3]"
   ]
  },
  {
   "cell_type": "code",
   "execution_count": 25,
   "metadata": {},
   "outputs": [],
   "source": [
    "mcqs_answers = json.loads(raw_answers_json)"
   ]
  },
  {
   "cell_type": "code",
   "execution_count": 26,
   "metadata": {},
   "outputs": [
    {
     "name": "stdout",
     "output_type": "stream",
     "text": [
      "{'1': {'answer': 'a', 'reason': 'Random Forest is a type of ensemble learning method for classification, regression, and other tasks that operates by constructing a multitude of decision trees at training time. It inherently handles missing values by considering all possible ways to split one or the other of the values that are missing.'}, '2': {'answer': 'c', 'reason': 'Lasso Regression (Least Absolute Shrinkage and Selection Operator) is a type of linear regression that uses shrinkage. Shrinkage basically means that data values are shrunk towards a central point, like the mean. The LASSO method performs regularization and variable selection by shrinking some of the regression coefficients to zero. This not only helps in reducing overfitting but also effectively selects a simpler model.'}, '3': {'answer': 'd', 'reason': 'In supervised learning, the algorithm is trained on a labeled dataset, which means a dataset where we already have the answers, and the goal is to learn a mapping from inputs to outputs. In contrast, unsupervised learning does not require labeled data and aims to find patterns and structures in the data without any predefined output labels.'}}\n"
     ]
    }
   ],
   "source": [
    "print(mcqs_answers)"
   ]
  },
  {
   "cell_type": "markdown",
   "metadata": {},
   "source": [
    "# If u have data"
   ]
  },
  {
   "cell_type": "code",
   "execution_count": 28,
   "metadata": {},
   "outputs": [],
   "source": [
    "from langchain.document_loaders import PyPDFLoader\n",
    "\n",
    "loader = PyPDFLoader('/Users/kaif/Desktop/Projects/testing_mcq_gen/experiment/machine_learning_intro.pdf')\n",
    "pages = loader.load_and_split()\n"
   ]
  },
  {
   "cell_type": "code",
   "execution_count": 29,
   "metadata": {},
   "outputs": [],
   "source": [
    "text = pages[0].page_content"
   ]
  },
  {
   "cell_type": "code",
   "execution_count": 30,
   "metadata": {},
   "outputs": [],
   "source": [
    "from langchain.chains import SequentialChain\n",
    "from langchain.chains import LLMChain\n",
    "\n",
    "chain1 = LLMChain(\n",
    "    llm=llm,\n",
    "    prompt = quiz_generate_prompt,\n",
    "    output_key = \"generated_mcqs\"\n",
    "    )\n",
    "\n",
    "chain2 = LLMChain(\n",
    "    llm=llm,\n",
    "    prompt = quiz_answers_prompt,\n",
    "    output_key = 'mcq_answers'\n",
    ")\n"
   ]
  },
  {
   "cell_type": "code",
   "execution_count": 31,
   "metadata": {},
   "outputs": [],
   "source": [
    "main_chain1 = SequentialChain(\n",
    "    chains = [chain1,chain2],\n",
    "    input_variables = ['Topic','Text','Count','Mode','json_formate','answers_formate'],\n",
    "    output_variables = ['generated_mcqs','mcq_answers']\n",
    ")"
   ]
  },
  {
   "cell_type": "code",
   "execution_count": 32,
   "metadata": {},
   "outputs": [],
   "source": [
    "response = main_chain1.invoke({\n",
    "    \"Topic\" : \"ML\",\n",
    "    \"Text\" : text,\n",
    "    \"Count\" : 3,\n",
    "    \"Mode\" : \"Hard\",\n",
    "    \"json_formate\" : response_formate,\n",
    "    'answers_formate' : answers_formate,\n",
    "}\n",
    ")"
   ]
  },
  {
   "cell_type": "code",
   "execution_count": 33,
   "metadata": {},
   "outputs": [],
   "source": [
    "mcqs = response['generated_mcqs']"
   ]
  },
  {
   "cell_type": "code",
   "execution_count": 34,
   "metadata": {},
   "outputs": [
    {
     "name": "stdout",
     "output_type": "stream",
     "text": [
      "```json\n",
      "{\n",
      "  \"1\": {\n",
      "    \"Question\": \"Which machine learning type relies on labeled data to train models for tasks such as classification and regression?\",\n",
      "    \"options\": {\n",
      "      \"a\": \"Reinforcement Learning\",\n",
      "      \"b\": \"Supervised Learning\",\n",
      "      \"c\": \"Unsupervised Learning\",\n",
      "      \"d\": \"Semi-supervised Learning\"\n",
      "    }\n",
      "  },\n",
      "  \"2\": {\n",
      "    \"Question\": \"In reinforcement learning, what does the environment provide to the agent after each action to train the model?\",\n",
      "    \"options\": {\n",
      "      \"a\": \"Labels\",\n",
      "      \"b\": \"Rewards\",\n",
      "      \"c\": \"Features\",\n",
      "      \"d\": \"Clusters\"\n",
      "    }\n",
      "  },\n",
      "  \"3\": {\n",
      "    \"Question\": \"Which algorithm is particularly known for finding patterns in unlabeled datasets by grouping data points into clusters?\",\n",
      "    \"options\": {\n",
      "      \"a\": \"Decision Trees\",\n",
      "      \"b\": \"Linear Regression\",\n",
      "      \"c\": \"K-Means Clustering\",\n",
      "      \"d\": \"Neural Networks\"\n",
      "    }\n",
      "  }\n",
      "}\n",
      "```\n"
     ]
    }
   ],
   "source": [
    "print(mcqs)"
   ]
  },
  {
   "cell_type": "code",
   "execution_count": 35,
   "metadata": {},
   "outputs": [],
   "source": [
    "raw_json = response['generated_mcqs']\n",
    "\n",
    "if raw_json.startswith(\"```json\"):\n",
    "    raw_json = raw_json[7:]\n",
    "if raw_json.endswith(\"```\"):\n",
    "    raw_json = raw_json[:-3] "
   ]
  },
  {
   "cell_type": "code",
   "execution_count": 36,
   "metadata": {},
   "outputs": [],
   "source": [
    "mcqs = json.loads(raw_json.strip())"
   ]
  },
  {
   "cell_type": "code",
   "execution_count": 37,
   "metadata": {},
   "outputs": [
    {
     "data": {
      "text/plain": [
       "{'1': {'Question': 'Which machine learning type relies on labeled data to train models for tasks such as classification and regression?',\n",
       "  'options': {'a': 'Reinforcement Learning',\n",
       "   'b': 'Supervised Learning',\n",
       "   'c': 'Unsupervised Learning',\n",
       "   'd': 'Semi-supervised Learning'}},\n",
       " '2': {'Question': 'In reinforcement learning, what does the environment provide to the agent after each action to train the model?',\n",
       "  'options': {'a': 'Labels',\n",
       "   'b': 'Rewards',\n",
       "   'c': 'Features',\n",
       "   'd': 'Clusters'}},\n",
       " '3': {'Question': 'Which algorithm is particularly known for finding patterns in unlabeled datasets by grouping data points into clusters?',\n",
       "  'options': {'a': 'Decision Trees',\n",
       "   'b': 'Linear Regression',\n",
       "   'c': 'K-Means Clustering',\n",
       "   'd': 'Neural Networks'}}}"
      ]
     },
     "execution_count": 37,
     "metadata": {},
     "output_type": "execute_result"
    }
   ],
   "source": [
    "mcqs"
   ]
  },
  {
   "cell_type": "code",
   "execution_count": 38,
   "metadata": {},
   "outputs": [],
   "source": [
    "raw_answers_json = response['mcq_answers']"
   ]
  },
  {
   "cell_type": "code",
   "execution_count": 39,
   "metadata": {},
   "outputs": [],
   "source": [
    "if type(raw_answers_json) == str:\n",
    "    if raw_answers_json.startswith(\"```json\"):\n",
    "        raw_answers_json = raw_answers_json[7:]\n",
    "    if raw_answers_json.endswith(\"```\"):\n",
    "        raw_answers_json = raw_answers_json[:-3]\n",
    "    mcqs_answers = json.loads(raw_answers_json)\n",
    "else :\n",
    "    mcqs_answers = raw_answers_json"
   ]
  },
  {
   "cell_type": "code",
   "execution_count": 40,
   "metadata": {},
   "outputs": [
    {
     "data": {
      "text/plain": [
       "{'1': {'answer': 'b',\n",
       "  'reason': 'Supervised Learning relies on labeled data for training its models to perform tasks such as classification and regression, where the dataset includes labels or known outcomes.'},\n",
       " '2': {'answer': 'b',\n",
       "  'reason': 'In reinforcement learning, each action taken by the agent in the environment is followed by a reward, which informs the agent whether its action was positive or negative with respect to the goal.'},\n",
       " '3': {'answer': 'c',\n",
       "  'reason': 'K-Means Clustering is particularly known for its ability to group data points into clusters in unlabeled datasets, effectively finding patterns without predefined labels.'}}"
      ]
     },
     "execution_count": 40,
     "metadata": {},
     "output_type": "execute_result"
    }
   ],
   "source": [
    "mcqs_answers"
   ]
  },
  {
   "cell_type": "code",
   "execution_count": null,
   "metadata": {},
   "outputs": [],
   "source": []
  }
 ],
 "metadata": {
  "kernelspec": {
   "display_name": "Python 3",
   "language": "python",
   "name": "python3"
  },
  "language_info": {
   "codemirror_mode": {
    "name": "ipython",
    "version": 3
   },
   "file_extension": ".py",
   "mimetype": "text/x-python",
   "name": "python",
   "nbconvert_exporter": "python",
   "pygments_lexer": "ipython3",
   "version": "3.9.21"
  }
 },
 "nbformat": 4,
 "nbformat_minor": 2
}
